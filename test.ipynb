{
 "metadata": {
  "language_info": {
   "codemirror_mode": {
    "name": "ipython",
    "version": 3
   },
   "file_extension": ".py",
   "mimetype": "text/x-python",
   "name": "python",
   "nbconvert_exporter": "python",
   "pygments_lexer": "ipython3",
   "version": "3.8.5-final"
  },
  "orig_nbformat": 2,
  "kernelspec": {
   "name": "python3",
   "display_name": "Python 3",
   "language": "python"
  }
 },
 "nbformat": 4,
 "nbformat_minor": 2,
 "cells": [
  {
   "cell_type": "code",
   "execution_count": 7,
   "metadata": {},
   "outputs": [],
   "source": [
    "import glob\n",
    "import pandas as pd"
   ]
  },
  {
   "cell_type": "code",
   "execution_count": 5,
   "metadata": {},
   "outputs": [],
   "source": [
    "image_lists = glob.glob(\"./static/diseasesImage/*.png\")"
   ]
  },
  {
   "cell_type": "code",
   "execution_count": 10,
   "metadata": {},
   "outputs": [
    {
     "output_type": "stream",
     "name": "stdout",
     "text": [
      "0 ./static/diseasesImage\\水稻一柱香病.png\n1 ./static/diseasesImage\\水稻三化螟.png\n2 ./static/diseasesImage\\水稻东格鲁病毒病.png\n3 ./static/diseasesImage\\水稻中华稻蝗.png\n4 ./static/diseasesImage\\水稻二化螟.png\n5 ./static/diseasesImage\\水稻云形病.png\n6 ./static/diseasesImage\\水稻低温冷害.png\n7 ./static/diseasesImage\\水稻倒伏.png\n8 ./static/diseasesImage\\水稻台湾稻螟.png\n9 ./static/diseasesImage\\水稻叶尖枯病.png\n10 ./static/diseasesImage\\水稻叶鞘网斑病.png\n11 ./static/diseasesImage\\水稻叶鞘腐败病.png\n12 ./static/diseasesImage\\水稻叶黑肿病.png\n13 ./static/diseasesImage\\水稻周斑水虹.png\n14 ./static/diseasesImage\\水稻大稻缘蝽.png\n15 ./static/diseasesImage\\水稻大绿蝽.png\n16 ./static/diseasesImage\\水稻大螟.png\n17 ./static/diseasesImage\\水稻小绿叶蝉.png\n18 ./static/diseasesImage\\水稻山稻蝗.png\n19 ./static/diseasesImage\\水稻干尖线虫病.png\n20 ./static/diseasesImage\\水稻恶苗病.png\n21 ./static/diseasesImage\\水稻显纹纵卷叶螟.png\n22 ./static/diseasesImage\\水稻条纹叶枯病.png\n23 ./static/diseasesImage\\水稻根结线虫病.png\n24 ./static/diseasesImage\\水稻灰飞虱.png\n25 ./static/diseasesImage\\水稻烂秧病.png\n26 ./static/diseasesImage\\水稻田蚜虫.png\n27 ./static/diseasesImage\\水稻电光叶蝉.png\n28 ./static/diseasesImage\\水稻白叶枯病.png\n29 ./static/diseasesImage\\水稻白绢病.png\n30 ./static/diseasesImage\\水稻白翅叶蝉.png\n31 ./static/diseasesImage\\水稻白背飞虱.png\n32 ./static/diseasesImage\\水稻直纹稻弄蝶.png\n33 ./static/diseasesImage\\水稻矮缩病.png\n34 ./static/diseasesImage\\水稻福寿螺.png\n35 ./static/diseasesImage\\水稻禾蓟马.png\n36 ./static/diseasesImage\\水稻稻巢螟.png\n37 ./static/diseasesImage\\水稻稻曲病.png\n38 ./static/diseasesImage\\水稻稻棘缘蝽.png\n39 ./static/diseasesImage\\水稻稻水螟.png\n40 ./static/diseasesImage\\水稻稻水象甲.png\n41 ./static/diseasesImage\\水稻稻潜叶蝇.png\n42 ./static/diseasesImage\\水稻稻田棉铃虫.png\n43 ./static/diseasesImage\\水稻稻田粘虫.png\n44 ./static/diseasesImage\\水稻稻瘟病.png\n45 ./static/diseasesImage\\水稻稻瘿蚊.png\n46 ./static/diseasesImage\\水稻稻白粉虱.png\n47 ./static/diseasesImage\\水稻稻直鬃蓟马.png\n48 ./static/diseasesImage\\水稻稻眼蝶.png\n49 ./static/diseasesImage\\水稻稻秆潜蝇.png\n50 ./static/diseasesImage\\水稻稻筒水螟.png\n51 ./static/diseasesImage\\水稻稻简管蓟马.png\n52 ./static/diseasesImage\\水稻稻粒黑粉病.png\n53 ./static/diseasesImage\\水稻稻纵卷叶螟.png\n54 ./static/diseasesImage\\水稻稻绿蝽.png\n55 ./static/diseasesImage\\水稻稻苗疫病.png\n56 ./static/diseasesImage\\水稻稻褐飞虱.png\n57 ./static/diseasesImage\\水稻稻象甲.png\n58 ./static/diseasesImage\\水稻稻负泥甲.png\n59 ./static/diseasesImage\\水稻稻赤斑沫蝉.png\n60 ./static/diseasesImage\\水稻稻金翅夜蛾.png\n61 ./static/diseasesImage\\水稻稻铁甲虫.png\n62 ./static/diseasesImage\\水稻稻黑蝽.png\n63 ./static/diseasesImage\\水稻窄条斑病.png\n64 ./static/diseasesImage\\水稻端大蓟马.png\n65 ./static/diseasesImage\\水稻紫鞘病.png\n66 ./static/diseasesImage\\水稻纹枯病.png\n67 ./static/diseasesImage\\水稻细菌性基腐病.png\n68 ./static/diseasesImage\\水稻细菌性条斑病.png\n69 ./static/diseasesImage\\水稻细菌性褐斑病.png\n70 ./static/diseasesImage\\水稻细菌性褐条病.png\n71 ./static/diseasesImage\\水稻细菌性谷枯病.png\n72 ./static/diseasesImage\\水稻胡麻斑病.png\n73 ./static/diseasesImage\\水稻芋蝗.png\n74 ./static/diseasesImage\\水稻花蓟马.png\n75 ./static/diseasesImage\\水稻菌核秆腐病.png\n76 ./static/diseasesImage\\水稻菲岛毛眼水蝇.png\n77 ./static/diseasesImage\\水稻营养障碍.png\n78 ./static/diseasesImage\\水稻褐边螟.png\n79 ./static/diseasesImage\\水稻谷枯病.png\n80 ./static/diseasesImage\\水稻赤枯病.png\n81 ./static/diseasesImage\\水稻长绿飞虱.png\n82 ./static/diseasesImage\\水稻长肩棘缘熔和短肩棘缘蝽.png\n83 ./static/diseasesImage\\水稻长腿水叶甲.png\n84 ./static/diseasesImage\\水稻霜霉病.png\n85 ./static/diseasesImage\\水稻高温热害.png\n86 ./static/diseasesImage\\水稻鳃蚯蚓.png\n87 ./static/diseasesImage\\水稻黄叶病.png\n88 ./static/diseasesImage\\水稻黄萎病.png\n89 ./static/diseasesImage\\水稻黑尾叶蝉.png\n90 ./static/diseasesImage\\水稻齿矮病.png\n"
     ]
    }
   ],
   "source": [
    "list1 = []\n",
    "list2 = []\n",
    "for i,img in enumerate(image_lists):\n",
    "    list1.append(img)\n",
    "    if i%4!=0:\n",
    "        list2.append(list1)\n",
    "        list.clear()"
   ]
  },
  {
   "cell_type": "code",
   "execution_count": null,
   "metadata": {},
   "outputs": [],
   "source": []
  }
 ]
}